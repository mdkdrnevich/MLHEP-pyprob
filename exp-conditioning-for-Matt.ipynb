{
 "cells": [
  {
   "cell_type": "code",
   "execution_count": 44,
   "metadata": {
    "execution": {
     "iopub.execute_input": "2020-08-06T14:58:50.513Z",
     "iopub.status.busy": "2020-08-06T14:58:50.509Z",
     "iopub.status.idle": "2020-08-06T14:58:50.989Z",
     "shell.execute_reply": "2020-08-06T14:58:51.019Z"
    },
    "jupyter": {
     "outputs_hidden": false,
     "source_hidden": false
    },
    "nteract": {
     "transient": {
      "deleting": false
     }
    }
   },
   "outputs": [],
   "source": [
    "import numpy as np\n",
    "import matplotlib.pyplot as plt"
   ]
  },
  {
   "cell_type": "code",
   "execution_count": 3,
   "metadata": {
    "execution": {
     "iopub.execute_input": "2020-08-06T14:58:50.999Z",
     "iopub.status.busy": "2020-08-06T14:58:50.995Z",
     "iopub.status.idle": "2020-08-06T14:58:51.005Z",
     "shell.execute_reply": "2020-08-06T14:58:51.022Z"
    },
    "jupyter": {
     "outputs_hidden": false,
     "source_hidden": false
    },
    "nteract": {
     "transient": {
      "deleting": false
     }
    }
   },
   "outputs": [],
   "source": [
    "decay=1\n",
    "sigma=0.3\n",
    "zmin=0\n",
    "zmax=5 # not used\n",
    "xthresh=1.5\n",
    "N=10000\n",
    "z = np.random.exponential(decay,N)\n",
    "x = np.random.normal(z,sigma,N)\n",
    "bins=np.linspace(0,zmax,51)"
   ]
  },
  {
   "cell_type": "code",
   "execution_count": 4,
   "metadata": {
    "execution": {
     "iopub.execute_input": "2020-08-06T14:58:51.015Z",
     "iopub.status.busy": "2020-08-06T14:58:51.012Z",
     "iopub.status.idle": "2020-08-06T14:58:51.190Z",
     "shell.execute_reply": "2020-08-06T14:58:51.210Z"
    },
    "jupyter": {
     "outputs_hidden": false,
     "source_hidden": false
    },
    "nteract": {
     "transient": {
      "deleting": false
     }
    }
   },
   "outputs": [
    {
     "data": {
      "text/plain": [
       "Text(0, 0.5, 'x')"
      ]
     },
     "execution_count": 4,
     "metadata": {},
     "output_type": "execute_result"
    },
    {
     "data": {
      "image/png": "[encoded data removed]",
      "text/plain": [
       "<Figure size 432x288 with 1 Axes>"
      ]
     },
     "metadata": {
      "needs_background": "light"
     },
     "output_type": "display_data"
    }
   ],
   "source": [
    "plt.scatter(z,x)\n",
    "plt.xlabel('z')\n",
    "plt.ylabel('x')"
   ]
  },
  {
   "cell_type": "code",
   "execution_count": 5,
   "metadata": {
    "execution": {
     "iopub.execute_input": "2020-08-06T14:58:51.205Z",
     "iopub.status.busy": "2020-08-06T14:58:51.201Z",
     "iopub.status.idle": "2020-08-06T14:58:51.329Z",
     "shell.execute_reply": "2020-08-06T14:58:51.346Z"
    },
    "jupyter": {
     "outputs_hidden": false,
     "source_hidden": false
    },
    "nteract": {
     "transient": {
      "deleting": false
     }
    }
   },
   "outputs": [
    {
     "data": {
      "text/plain": [
       "Text(0.5, 0, 'x-z')"
      ]
     },
     "execution_count": 5,
     "metadata": {},
     "output_type": "execute_result"
    },
    {
     "data": {
      "image/png": "[encoded data removed]",
      "text/plain": [
       "<Figure size 432x288 with 1 Axes>"
      ]
     },
     "metadata": {
      "needs_background": "light"
     },
     "output_type": "display_data"
    }
   ],
   "source": [
    "_ = plt.hist(x-z)\n",
    "_ = plt.hist((x-z)[z>1])\n",
    "plt.xlabel('x-z')"
   ]
  },
  {
   "cell_type": "code",
   "execution_count": 6,
   "metadata": {
    "execution": {
     "iopub.execute_input": "2020-08-06T14:58:51.336Z",
     "iopub.status.busy": "2020-08-06T14:58:51.334Z",
     "iopub.status.idle": "2020-08-06T14:58:51.618Z",
     "shell.execute_reply": "2020-08-06T14:58:51.635Z"
    },
    "jupyter": {
     "outputs_hidden": false,
     "source_hidden": false
    },
    "nteract": {
     "transient": {
      "deleting": false
     }
    }
   },
   "outputs": [
    {
     "data": {
      "text/plain": [
       "<matplotlib.legend.Legend at 0x2aea225fc510>"
      ]
     },
     "execution_count": 6,
     "metadata": {},
     "output_type": "execute_result"
    },
    {
     "data": {
      "image/png": "[encoded data removed]",
      "text/plain": [
       "<Figure size 432x288 with 1 Axes>"
      ]
     },
     "metadata": {
      "needs_background": "light"
     },
     "output_type": "display_data"
    }
   ],
   "source": [
    "_ = plt.hist(x, bins=bins, label='prior')\n",
    "_ = plt.hist(x[x>xthresh], bins=bins,label='posterior x>thresh')\n",
    "plt.xlabel('x')\n",
    "plt.legend()"
   ]
  },
  {
   "cell_type": "code",
   "execution_count": 7,
   "metadata": {
    "execution": {
     "iopub.execute_input": "2020-08-06T14:58:51.626Z",
     "iopub.status.busy": "2020-08-06T14:58:51.623Z",
     "iopub.status.idle": "2020-08-06T14:58:51.902Z",
     "shell.execute_reply": "2020-08-06T14:58:51.912Z"
    },
    "jupyter": {
     "outputs_hidden": false,
     "source_hidden": false
    },
    "nteract": {
     "transient": {
      "deleting": false
     }
    }
   },
   "outputs": [
    {
     "data": {
      "text/plain": [
       "<matplotlib.legend.Legend at 0x2aea225e4590>"
      ]
     },
     "execution_count": 7,
     "metadata": {},
     "output_type": "execute_result"
    },
    {
     "data": {
      "image/png": "[encoded data removed]",
      "text/plain": [
       "<Figure size 432x288 with 1 Axes>"
      ]
     },
     "metadata": {
      "needs_background": "light"
     },
     "output_type": "display_data"
    }
   ],
   "source": [
    "_ = plt.hist(z, bins=bins, label='prior')\n",
    "_ = plt.hist(z[x>xthresh], bins=bins,label='posterior x>thresh')\n",
    "plt.xlabel('z')\n",
    "plt.legend()"
   ]
  },
  {
   "cell_type": "markdown",
   "metadata": {
    "nteract": {
     "transient": {
      "deleting": false
     }
    }
   },
   "source": [
    "The Cell above shows posterior in a case where a mixture of Gaussians might do ok in modelling it. "
   ]
  },
  {
   "cell_type": "markdown",
   "metadata": {
    "collapsed": true,
    "jupyter": {
     "outputs_hidden": false,
     "source_hidden": false
    },
    "nteract": {
     "transient": {
      "deleting": false
     }
    }
   },
   "source": [
    "# Turn this into PyProb"
   ]
  },
  {
   "cell_type": "code",
   "execution_count": 1,
   "metadata": {},
   "outputs": [
    {
     "name": "stdout",
     "output_type": "stream",
     "text": [
      "Cannot import dbm.gnu: No module named '_gdbm'\n"
     ]
    },
    {
     "name": "stderr",
     "output_type": "stream",
     "text": [
      "/scratch/mdd424/CGinkgo/lib/python3.7/site-packages/pyprob/util.py:332: UserWarning: Empirical distributions on disk may perform slow because GNU DBM is not available. Please install and configure gdbm library for Python for better speed.\n",
      "  warnings.warn('Empirical distributions on disk may perform slow because GNU DBM is not available. Please install and configure gdbm library for Python for better speed.')\n"
     ]
    }
   ],
   "source": [
    "import pyprob\n",
    "from pyprob import Model\n",
    "from scipy import stats"
   ]
  },
  {
   "cell_type": "markdown",
   "metadata": {},
   "source": [
    "### Define a simple model reflecting the above distributions"
   ]
  },
  {
   "cell_type": "code",
   "execution_count": 34,
   "metadata": {},
   "outputs": [],
   "source": [
    "class SimpleSim(Model):\n",
    "    def __init__(self, bernoulli_func, exp_decay=1.5, exp_low=0, exp_high=1, sigma=0.3):\n",
    "        super().__init__(name=\"Simple Simulator\")\n",
    "        self.bernoulli_func = bernoulli_func\n",
    "        self.exp_decay = exp_decay\n",
    "        self.exp_low = exp_low\n",
    "        self.exp_high = exp_high\n",
    "        self.sigma = sigma\n",
    "    \n",
    "    def forward(self):\n",
    "        # Sample our latent variable\n",
    "        z = pyprob.sample(pyprob.distributions.TruncatedExponential(self.exp_decay, self.exp_low, self.exp_high),\n",
    "                          name=\"latent\")\n",
    "        # Sample our observable\n",
    "        x = pyprob.sample(pyprob.distributions.Normal(z, self.sigma),\n",
    "                           name=\"observed\")\n",
    "        rval = {'latent': z, 'observed': x}\n",
    "        \n",
    "        # Define a bernoulli variable that determines whether or not we pass a certain cut criterion\n",
    "        delta_val = int(self.bernoulli_func(self, rval))\n",
    "        bool_func_dist = pyprob.distributions.Bernoulli(delta_val)\n",
    "        pyprob.observe(bool_func_dist, name=\"bernoulli\")\n",
    "        return rval"
   ]
  },
  {
   "cell_type": "markdown",
   "metadata": {},
   "source": [
    "### Define a bernoulli variable that determines whether or not we pass a certain cut criterion"
   ]
  },
  {
   "cell_type": "code",
   "execution_count": 64,
   "metadata": {},
   "outputs": [],
   "source": [
    "threshold = 1\n",
    "def bernoulli_func(self, result):\n",
    "    if result[\"observed\"] is None:\n",
    "        print(result)\n",
    "    return result[\"observed\"] > threshold"
   ]
  },
  {
   "cell_type": "markdown",
   "metadata": {},
   "source": [
    "### Make an instance of the simulator"
   ]
  },
  {
   "cell_type": "code",
   "execution_count": 95,
   "metadata": {},
   "outputs": [],
   "source": [
    "sim = SimpleSim(bernoulli_func, exp_high=5)"
   ]
  },
  {
   "cell_type": "markdown",
   "metadata": {},
   "source": [
    "### Generate traces from the simulator"
   ]
  },
  {
   "cell_type": "code",
   "execution_count": 79,
   "metadata": {},
   "outputs": [
    {
     "name": "stdout",
     "output_type": "stream",
     "text": [
      "Time spent  | Time remain.| Progress             | Trace       | Traces/sec\n",
      "0d:00:01:06 | 0d:00:00:00 | #################### | 50000/50000 | 755.20       \n"
     ]
    }
   ],
   "source": [
    "prior = sim.prior(num_traces=10*5000)"
   ]
  },
  {
   "cell_type": "markdown",
   "metadata": {},
   "source": [
    "### Filter on those that pass the cut criterion"
   ]
  },
  {
   "cell_type": "code",
   "execution_count": 80,
   "metadata": {},
   "outputs": [
    {
     "name": "stdout",
     "output_type": "stream",
     "text": [
      "Filter, min_index: 0, max_index: 50000\n",
      "Time spent  | Time remain.| Progress             | Values      | Values/sec\n",
      "0d:00:00:01 | 0d:00:00:00 | #################### | 50000/50000 | 25,587.24       \n"
     ]
    }
   ],
   "source": [
    "posterior = prior.filter(lambda t: bernoulli_func(None, t.result))"
   ]
  },
  {
   "cell_type": "markdown",
   "metadata": {},
   "source": [
    "### Get the latent variable distributions"
   ]
  },
  {
   "cell_type": "code",
   "execution_count": 81,
   "metadata": {},
   "outputs": [
    {
     "name": "stdout",
     "output_type": "stream",
     "text": [
      "Map, min_index: 0, max_index: 50000\n",
      "Time spent  | Time remain.| Progress             | Values      | Values/sec\n",
      "0d:00:00:00 | 0d:00:00:00 | #################### | 50000/50000 | 61,176.84       \n",
      "Map, min_index: 0, max_index: 12371\n",
      "Time spent  | Time remain.| Progress             | Values      | Values/sec\n",
      "0d:00:00:00 | 0d:00:00:00 | #################### | 12371/12371 | 23,767.36       \n"
     ]
    }
   ],
   "source": [
    "exp_prior_dist = prior.map(lambda t: t['latent'])\n",
    "exp_post_dist = posterior.map(lambda t: t['latent'])"
   ]
  },
  {
   "cell_type": "markdown",
   "metadata": {},
   "source": [
    "### Check the effective sample sizes"
   ]
  },
  {
   "cell_type": "code",
   "execution_count": 82,
   "metadata": {},
   "outputs": [
    {
     "name": "stdout",
     "output_type": "stream",
     "text": [
      "Prior effective sample size: 50000.0\n",
      "Posterior effective sample size: 12371.0\n"
     ]
    }
   ],
   "source": [
    "w = exp_prior_dist.weights.numpy()\n",
    "print(\"Prior effective sample size:\", round(w.sum()**2 / (w**2).sum(), 7))\n",
    "\n",
    "w = exp_post_dist.weights.numpy()\n",
    "print(\"Posterior effective sample size:\", round(w.sum()**2 / (w**2).sum(), 7))"
   ]
  },
  {
   "cell_type": "markdown",
   "metadata": {},
   "source": [
    "### Use a quick Gaussian KDE to get a continuous view of the posterior (again)"
   ]
  },
  {
   "cell_type": "code",
   "execution_count": 83,
   "metadata": {},
   "outputs": [],
   "source": [
    "kernel = stats.gaussian_kde([x.item() for x in exp_post_dist.values], weights=exp_post_dist.weights.numpy())"
   ]
  },
  {
   "cell_type": "markdown",
   "metadata": {},
   "source": [
    "### Visualize the latent variable distribution for the prior and posterior (again)"
   ]
  },
  {
   "cell_type": "code",
   "execution_count": 84,
   "metadata": {},
   "outputs": [
    {
     "data": {
      "text/plain": [
       "Text(0, 0.5, 'Normalized Bin Count')"
      ]
     },
     "execution_count": 84,
     "metadata": {},
     "output_type": "execute_result"
    },
    {
     "data": {
      "image/png": "[encoded data removed]",
      "text/plain": [
       "<Figure size 576x576 with 1 Axes>"
      ]
     },
     "metadata": {
      "needs_background": "light"
     },
     "output_type": "display_data"
    }
   ],
   "source": [
    "bins = np.linspace(sim.exp_low, sim.exp_high, 51)\n",
    "kernel_bins = np.linspace(sim.exp_low, sim.exp_high, 101)\n",
    "\n",
    "fig = plt.figure()\n",
    "fig.set_size_inches(8,8)\n",
    "ax = fig.add_subplot(111)\n",
    "\n",
    "c1,_,_ = ax.hist([x.item() for x in exp_prior_dist.values],\n",
    "                 weights=exp_prior_dist.weights.numpy(),\n",
    "                 bins=bins, alpha = 0.5, label='prior', density=True);\n",
    "c2,_,_ = ax.hist([x.item() for x in exp_post_dist.values],\n",
    "                 weights=exp_post_dist.weights.numpy(),\n",
    "                 bins=bins, alpha = 0.5, label = 'posterior', density=True);\n",
    "ax.plot(kernel_bins, kernel(kernel_bins), label=\"Gaussian KDE of posterior\")\n",
    "\n",
    "ax.legend()\n",
    "ax.set_title(\"Latent Variable Distributions\")\n",
    "ax.set_xlabel('Truncated Exponential Samples')\n",
    "ax.set_ylabel(\"Normalized Bin Count\")"
   ]
  },
  {
   "cell_type": "markdown",
   "metadata": {},
   "source": [
    "# Generate the posterior using importance sampling"
   ]
  },
  {
   "cell_type": "code",
   "execution_count": 86,
   "metadata": {},
   "outputs": [
    {
     "name": "stdout",
     "output_type": "stream",
     "text": [
      "Time spent  | Time remain.| Progress             | Trace       | Traces/sec\n",
      "0d:00:01:20 | 0d:00:00:00 | #################### | 50000/50000 | 618.36       \n"
     ]
    }
   ],
   "source": [
    "posterior = sim.posterior(num_traces=10*5000, observe={\"bernoulli\": 1})"
   ]
  },
  {
   "cell_type": "markdown",
   "metadata": {},
   "source": [
    "## Repeat the above"
   ]
  },
  {
   "cell_type": "markdown",
   "metadata": {},
   "source": [
    "### Get the latent variable distributions (again)"
   ]
  },
  {
   "cell_type": "code",
   "execution_count": 87,
   "metadata": {},
   "outputs": [
    {
     "name": "stdout",
     "output_type": "stream",
     "text": [
      "Map, min_index: 0, max_index: 50000\n",
      "Time spent  | Time remain.| Progress             | Values      | Values/sec\n",
      "0d:00:00:00 | 0d:00:00:00 | #################### | 50000/50000 | 78,057.69       \n",
      "Map, min_index: 0, max_index: 50000\n",
      "Time spent  | Time remain.| Progress             | Values      | Values/sec\n",
      "0d:00:00:00 | 0d:00:00:00 | #################### | 50000/50000 | 89,233.68       \n"
     ]
    }
   ],
   "source": [
    "exp_prior_dist = prior.map(lambda t: t['latent'])\n",
    "exp_post_dist = posterior.map(lambda t: t['latent'])"
   ]
  },
  {
   "cell_type": "markdown",
   "metadata": {},
   "source": [
    "### Check the effective sample sizes (again)"
   ]
  },
  {
   "cell_type": "code",
   "execution_count": 88,
   "metadata": {},
   "outputs": [
    {
     "name": "stdout",
     "output_type": "stream",
     "text": [
      "Prior effective sample size: 50000.0\n",
      "Posterior effective sample size: 12388.0089674\n"
     ]
    }
   ],
   "source": [
    "w = exp_prior_dist.weights.numpy()\n",
    "print(\"Prior effective sample size:\", round(w.sum()**2 / (w**2).sum(), 7))\n",
    "\n",
    "w = exp_post_dist.weights.numpy()\n",
    "print(\"Posterior effective sample size:\", round(w.sum()**2 / (w**2).sum(), 7))"
   ]
  },
  {
   "cell_type": "markdown",
   "metadata": {},
   "source": [
    "### Use a quick Gaussian KDE to get a continuous view of the posterior (again)"
   ]
  },
  {
   "cell_type": "code",
   "execution_count": 89,
   "metadata": {},
   "outputs": [],
   "source": [
    "kernel = stats.gaussian_kde([x.item() for x in exp_post_dist.values], weights=exp_post_dist.weights.numpy())"
   ]
  },
  {
   "cell_type": "markdown",
   "metadata": {},
   "source": [
    "### Visualize the latent variable distribution for the prior and posterior (again)"
   ]
  },
  {
   "cell_type": "code",
   "execution_count": 90,
   "metadata": {},
   "outputs": [
    {
     "data": {
      "text/plain": [
       "Text(0, 0.5, 'Normalized Bin Count')"
      ]
     },
     "execution_count": 90,
     "metadata": {},
     "output_type": "execute_result"
    },
    {
     "data": {
      "image/png": "[encoded data removed]",
      "text/plain": [
       "<Figure size 576x576 with 1 Axes>"
      ]
     },
     "metadata": {
      "needs_background": "light"
     },
     "output_type": "display_data"
    }
   ],
   "source": [
    "bins = np.linspace(sim.exp_low, sim.exp_high, 51)\n",
    "kernel_bins = np.linspace(sim.exp_low, sim.exp_high, 101)\n",
    "\n",
    "fig = plt.figure()\n",
    "fig.set_size_inches(8,8)\n",
    "ax = fig.add_subplot(111)\n",
    "\n",
    "c1,_,_ = ax.hist([x.item() for x in exp_prior_dist.values],\n",
    "                 weights=exp_prior_dist.weights.numpy(),\n",
    "                 bins=bins, alpha = 0.5, label='prior', density=True);\n",
    "c2,_,_ = ax.hist([x.item() for x in exp_post_dist.values],\n",
    "                 weights=exp_post_dist.weights.numpy(),\n",
    "                 bins=bins, alpha = 0.5, label = 'posterior', density=True);\n",
    "ax.plot(kernel_bins, kernel(kernel_bins), label=\"Gaussian KDE of posterior\")\n",
    "\n",
    "ax.legend()\n",
    "ax.set_title(\"Latent Variable Distributions\")\n",
    "ax.set_xlabel('Truncated Exponential Samples')\n",
    "ax.set_ylabel(\"Normalized Bin Count\")"
   ]
  },
  {
   "cell_type": "markdown",
   "metadata": {},
   "source": [
    "# Generate the posterior using inference compilation"
   ]
  },
  {
   "cell_type": "markdown",
   "metadata": {},
   "source": [
    "### Train the inference compilation network"
   ]
  },
  {
   "cell_type": "code",
   "execution_count": 96,
   "metadata": {},
   "outputs": [
    {
     "name": "stdout",
     "output_type": "stream",
     "text": [
      "Creating new inference network...\n",
      "Observable bernoulli: reshape not specified, using shape torch.Size([]).\n",
      "Observable bernoulli: using embedding dim torch.Size([32]).\n",
      "Observable bernoulli: observe embedding not specified, using the default FEEDFORWARD.\n",
      "Observable bernoulli: using embedding depth 3.\n",
      "Observe embedding dimension: 32\n",
      "Train. time | Epoch| Trace     | Init. loss| Min. loss | Curr. loss| T.since min | Learn.rate| Traces/sec\n",
      "New layers, address: 28__forward__z__TruncatedExponential__1, distribution: TruncatedExponential\n",
      "New layers, address: 54__forward__x__Normal__1, distribution: Normal\n",
      "Total addresses: 2, parameters: 4,658\n",
      "0d:00:00:58 | 1    | 29,952    | +1.83e+00 | +1.00e-01 | \u001b[32m+4.70e-01\u001b[0m | 0d:00:00:20 | +1.00e-03 | 533.1                               \n",
      "Stop condition reached. num_traces: 30000\n",
      "0d:00:00:58 | 1    | 30,016    | +1.83e+00 | +1.00e-01 | \u001b[32m+2.74e-01\u001b[0m | 0d:00:00:20 | +1.00e-03 | 531.6                               \n"
     ]
    }
   ],
   "source": [
    "sim.learn_inference_network(\n",
    "    num_traces=30000,\n",
    "    proposal_mixture_components=3,\n",
    "    observe_embeddings={'bernoulli': {'dim': 32, 'depth': 3}}\n",
    ")"
   ]
  },
  {
   "cell_type": "markdown",
   "metadata": {},
   "source": [
    "### Use the network to improve sampling from the posterior"
   ]
  },
  {
   "cell_type": "code",
   "execution_count": 98,
   "metadata": {},
   "outputs": [
    {
     "name": "stdout",
     "output_type": "stream",
     "text": [
      "Time spent  | Time remain.| Progress             | Trace       | Traces/sec\n",
      "0d:00:05:32 | 0d:00:00:00 | #################### | 50000/50000 | 150.57       \n"
     ]
    }
   ],
   "source": [
    "posterior = sim.posterior(num_traces=10*5000,\n",
    "                          inference_engine=pyprob.InferenceEngine.IMPORTANCE_SAMPLING_WITH_INFERENCE_NETWORK,\n",
    "                          observe={\"bernoulli\": 1})"
   ]
  },
  {
   "cell_type": "markdown",
   "metadata": {},
   "source": [
    "### Get the latent variable distributions (again)"
   ]
  },
  {
   "cell_type": "code",
   "execution_count": 99,
   "metadata": {},
   "outputs": [
    {
     "name": "stdout",
     "output_type": "stream",
     "text": [
      "Map, min_index: 0, max_index: 50000\n",
      "Time spent  | Time remain.| Progress             | Values      | Values/sec\n",
      "0d:00:00:00 | 0d:00:00:00 | #################### | 50000/50000 | 78,576.67       \n",
      "Map, min_index: 0, max_index: 50000\n",
      "Time spent  | Time remain.| Progress             | Values      | Values/sec\n",
      "0d:00:00:00 | 0d:00:00:00 | #################### | 50000/50000 | 100,622.29       \n"
     ]
    }
   ],
   "source": [
    "exp_prior_dist = prior.map(lambda t: t['latent'])\n",
    "exp_post_dist = posterior.map(lambda t: t['latent'])"
   ]
  },
  {
   "cell_type": "markdown",
   "metadata": {},
   "source": [
    "### Check the effective sample sizes (again)"
   ]
  },
  {
   "cell_type": "code",
   "execution_count": 100,
   "metadata": {},
   "outputs": [
    {
     "name": "stdout",
     "output_type": "stream",
     "text": [
      "Prior effective sample size: 50000.0\n",
      "Posterior effective sample size: 23199.9207079\n"
     ]
    }
   ],
   "source": [
    "w = exp_prior_dist.weights.numpy()\n",
    "print(\"Prior effective sample size:\", round(w.sum()**2 / (w**2).sum(), 7))\n",
    "\n",
    "w = exp_post_dist.weights.numpy()\n",
    "print(\"Posterior effective sample size:\", round(w.sum()**2 / (w**2).sum(), 7))"
   ]
  },
  {
   "cell_type": "markdown",
   "metadata": {},
   "source": [
    "### Use a quick Gaussian KDE to get a continuous view of the posterior"
   ]
  },
  {
   "cell_type": "code",
   "execution_count": 101,
   "metadata": {},
   "outputs": [],
   "source": [
    "kernel = stats.gaussian_kde([x.item() for x in exp_post_dist.values], weights=exp_post_dist.weights.numpy())"
   ]
  },
  {
   "cell_type": "markdown",
   "metadata": {},
   "source": [
    "### Visualize the latent variable distribution for the prior and posterior"
   ]
  },
  {
   "cell_type": "code",
   "execution_count": 102,
   "metadata": {},
   "outputs": [
    {
     "data": {
      "text/plain": [
       "Text(0, 0.5, 'Normalized Bin Count')"
      ]
     },
     "execution_count": 102,
     "metadata": {},
     "output_type": "execute_result"
    },
    {
     "data": {
      "image/png": "[encoded data removed]",
      "text/plain": [
       "<Figure size 576x576 with 1 Axes>"
      ]
     },
     "metadata": {
      "needs_background": "light"
     },
     "output_type": "display_data"
    }
   ],
   "source": [
    "bins = np.linspace(sim.exp_low, sim.exp_high, 51)\n",
    "kernel_bins = np.linspace(sim.exp_low, sim.exp_high, 101)\n",
    "\n",
    "fig = plt.figure()\n",
    "fig.set_size_inches(8,8)\n",
    "ax = fig.add_subplot(111)\n",
    "\n",
    "c1,_,_ = ax.hist([x.item() for x in exp_prior_dist.values],\n",
    "                 weights=exp_prior_dist.weights.numpy(),\n",
    "                 bins=bins, alpha = 0.5, label='prior', density=True);\n",
    "c2,_,_ = ax.hist([x.item() for x in exp_post_dist.values],\n",
    "                 weights=exp_post_dist.weights.numpy(),\n",
    "                 bins=bins, alpha = 0.5, label = 'posterior', density=True);\n",
    "ax.plot(kernel_bins, kernel(kernel_bins), label=\"Gaussian KDE of posterior\")\n",
    "\n",
    "ax.legend()\n",
    "ax.set_title(\"Latent Variable Distributions\")\n",
    "ax.set_xlabel('Truncated Exponential Samples')\n",
    "ax.set_ylabel(\"Normalized Bin Count\")"
   ]
  },
  {
   "cell_type": "code",
   "execution_count": null,
   "metadata": {},
   "outputs": [],
   "source": []
  }
 ],
 "metadata": {
  "kernel_info": {
   "name": "python3"
  },
  "kernelspec": {
   "display_name": "Python 3",
   "language": "python",
   "name": "python3"
  },
  "language_info": {
   "codemirror_mode": {
    "name": "ipython",
    "version": 3
   },
   "file_extension": ".py",
   "mimetype": "text/x-python",
   "name": "python",
   "nbconvert_exporter": "python",
   "pygments_lexer": "ipython3",
   "version": "3.7.7"
  },
  "nteract": {
   "version": "0.24.0"
  }
 },
 "nbformat": 4,
 "nbformat_minor": 1
}
